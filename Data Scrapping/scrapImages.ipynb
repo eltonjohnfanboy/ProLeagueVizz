{
 "cells": [
  {
   "cell_type": "code",
   "execution_count": 7,
   "metadata": {},
   "outputs": [],
   "source": [
    "# Importing libraries\n",
    "\n",
    "import numpy as np\n",
    "import pandas as pd\n",
    "from datetime import datetime, date\n",
    "import re\n",
    "import requests\n",
    "import random\n",
    "import time\n",
    "from collections import Counter\n",
    "from tqdm import tqdm\n",
    "import os\n",
    "\n",
    "from selenium import webdriver\n",
    "from selenium.webdriver.common.by import By\n",
    "from selenium.webdriver.support.ui import WebDriverWait\n",
    "from selenium.webdriver.support import expected_conditions as EC\n",
    "from selenium.common.exceptions import TimeoutException\n",
    "from selenium.webdriver.common.keys import Keys"
   ]
  },
  {
   "cell_type": "code",
   "execution_count": 8,
   "metadata": {},
   "outputs": [],
   "source": [
    "from selenium import webdriver\n",
    "import requests\n",
    "import os\n",
    "\n",
    "# Set up the Selenium webdriver\n",
    "driver = webdriver.Chrome()  # You'll need the appropriate webdriver for your browser\n",
    "\n",
    "# Get the absolute path to the directory\n",
    "main_directory = \"C:/Users/adars/OneDrive/Escritorio/ProjecteLolShiny/\"\n",
    "images_directory = os.path.join(main_directory, 'PlayerImages')\n",
    "\n",
    "# Create the directory if it doesn't exist\n",
    "os.makedirs(images_directory, exist_ok=True)\n",
    "\n",
    "# Define players to scrap\n",
    "players_list = [\"'113', 'Elyoya', \"Caps\", \"Razork\", \"Yike\", \"Exakick\", \"Upset\", \"Humanoid\", \"Hylissang\", \"Nisqy\"\"]\n",
    "\n",
    "for player in players_list:\n",
    "\n",
    "    # Navigate to the web page with the images\n",
    "    url = f\"https://oracleselixir.com/player/{player}/statsByYear\"  # Replace with the URL of the page you want to scrape\n",
    "    driver.get(url)\n",
    "\n",
    "    # Find the div elements with the specified class name using Selenium\n",
    "    div_elements = driver.find_elements(By.CSS_SELECTOR, '.sc-jJcwTH.dZnJCc')\n",
    "\n",
    "    # Loop through the div elements and extract and download the images\n",
    "    for div_element in div_elements:\n",
    "        # Find the image element within the div\n",
    "        img_element = div_element.find_element(By.TAG_NAME, 'img')\n",
    "        \n",
    "        img_src = img_element.get_attribute('src')\n",
    "        \n",
    "        if img_src:\n",
    "            response = requests.get(img_src)\n",
    "            img_filename = os.path.join(images_directory, f'image_{player}.jpg')\n",
    "            \n",
    "            with open(img_filename, 'wb') as img_file:\n",
    "                img_file.write(response.content)\n",
    "\n",
    "# Close the Selenium webdriver\n",
    "driver.quit()"
   ]
  },
  {
   "cell_type": "code",
   "execution_count": null,
   "metadata": {},
   "outputs": [],
   "source": []
  }
 ],
 "metadata": {
  "kernelspec": {
   "display_name": "base",
   "language": "python",
   "name": "python3"
  },
  "language_info": {
   "codemirror_mode": {
    "name": "ipython",
    "version": 3
   },
   "file_extension": ".py",
   "mimetype": "text/x-python",
   "name": "python",
   "nbconvert_exporter": "python",
   "pygments_lexer": "ipython3",
   "version": "3.9.13"
  },
  "orig_nbformat": 4
 },
 "nbformat": 4,
 "nbformat_minor": 2
}
